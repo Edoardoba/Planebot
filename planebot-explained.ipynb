{
 "cells": [
  {
   "cell_type": "code",
   "execution_count": 18,
   "metadata": {},
   "outputs": [],
   "source": [
    "import pandas as pd\n",
    "import numpy as np\n",
    "import requests\n",
    "import json\n",
    "from io import StringIO\n",
    "from email.mime.multipart import MIMEMultipart\n",
    "from email.mime.text import MIMEText\n",
    "import smtplib"
   ]
  },
  {
   "cell_type": "code",
   "execution_count": 24,
   "metadata": {},
   "outputs": [],
   "source": [
    "try:\n",
    "    url = \"https://api.skypicker.com/flights\"\n",
    "\n",
    "    # location given here \n",
    "    fly_from =\"ROM\"\n",
    "    fly_to = \"STN\"\n",
    "    date_from =\"23/04/2020\"\n",
    "    flight_type= \"oneway\"\n",
    "    date_to =\"24/04/2020\"\n",
    "    #\"one_per_date\":1\n",
    "    # defining a params dict for the parameters to be sent to the API \n",
    "    PARAMS = {'fly_from':fly_from,\"direct_flights\":1, 'fly_to':fly_to,'date_from':date_from,'date_to':date_to,'partner': \"picky\",\"flight_type\": flight_type} \n",
    "\n",
    "    # sending get request and saving the response as response object \n",
    "    r = requests.get(url = url, params = PARAMS) \n",
    "    data = r.json() \n",
    "    lista=data['data']\n",
    "    #print(json.dumps(data, indent = 4))\n",
    "    prezzi=[]\n",
    "    for i in range(0,len(lista)):\n",
    "        prezzi.append(lista[i]['price'])\n",
    "    buono=prezzi.index(min(prezzi))\n",
    "except:\n",
    "    next"
   ]
  },
  {
   "cell_type": "code",
   "execution_count": 25,
   "metadata": {},
   "outputs": [
    {
     "data": {
      "text/plain": [
       "{'search_id': '21abe10f-5bcf-4e18-8b35-e4e723d3d3a7',\n",
       " 'data': [],\n",
       " 'connections': [],\n",
       " 'time': 1,\n",
       " 'currency': 'EUR',\n",
       " 'currency_rate': 1.0,\n",
       " 'fx_rate': 1.0,\n",
       " 'refresh': [],\n",
       " 'del': 2.914344,\n",
       " 'ref_tasks': [],\n",
       " 'search_params': {'flyFrom_type': 'airport',\n",
       "  'to_type': 'airport',\n",
       "  'seats': {'passengers': 1, 'adults': 1, 'children': 0, 'infants': 0}},\n",
       " 'all_stopover_airports': [],\n",
       " 'all_airlines': []}"
      ]
     },
     "execution_count": 25,
     "metadata": {},
     "output_type": "execute_result"
    }
   ],
   "source": [
    "data"
   ]
  },
  {
   "cell_type": "code",
   "execution_count": null,
   "metadata": {},
   "outputs": [],
   "source": []
  },
  {
   "cell_type": "code",
   "execution_count": 23,
   "metadata": {},
   "outputs": [
    {
     "name": "stdout",
     "output_type": "stream",
     "text": [
      "not ok\n"
     ]
    }
   ],
   "source": [
    "try:\n",
    "    server = smtplib.SMTP(\"smtp.mail.yahoo.com\", 587)\n",
    "    server.connect(\"smtp.mail.yahoo.com\", 587)\n",
    "    server.ehlo()\n",
    "    server.starttls()\n",
    "    server.ehlo()\n",
    "    msg = MIMEMultipart()\n",
    "    msg['Subject'] = \"New offer for \"+ lista[buono]['cityTo']\n",
    "    body = \"Hi Edoardo, \\n \\nBot has found a new offer of \"+ str(lista[buono]['price']) + \"€. Number of flights is equal to \"+str(lista[buono]['pnr_count'])+\" and the total duration of the fligh is \"+ str(lista[buono]['fly_duration'])+\".\\n \\n Book via: \\n\" +str(lista[buono]['deep_link'])+\"\\n \\n \\n  Sincerely, \\n Your lovely bot\"\n",
    "    msg.attach(MIMEText(body, 'plain'))\n",
    "    server.login(\"sender\", \"senderpsw\")\n",
    "    text = msg.as_string()\n",
    "    server.sendmail(\"sender\", \"receiver\", text)\n",
    "    server.quit()\n",
    "    print(\"ok\")\n",
    "except:\n",
    "    print(\"not ok\")"
   ]
  }
 ],
 "metadata": {
  "kernelspec": {
   "display_name": "Python 3",
   "language": "python",
   "name": "python3"
  },
  "language_info": {
   "codemirror_mode": {
    "name": "ipython",
    "version": 3
   },
   "file_extension": ".py",
   "mimetype": "text/x-python",
   "name": "python",
   "nbconvert_exporter": "python",
   "pygments_lexer": "ipython3",
   "version": "3.6.5"
  }
 },
 "nbformat": 4,
 "nbformat_minor": 2
}
