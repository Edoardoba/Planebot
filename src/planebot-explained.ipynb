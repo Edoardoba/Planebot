{
 "cells": [
  {
   "cell_type": "code",
   "execution_count": 1,
   "metadata": {},
   "outputs": [],
   "source": [
    "import pandas as pd\n",
    "import numpy as np\n",
    "import requests\n",
    "import json\n",
    "from io import StringIO\n",
    "from email.mime.multipart import MIMEMultipart\n",
    "from email.mime.text import MIMEText\n",
    "import smtplib"
   ]
  },
  {
   "cell_type": "markdown",
   "metadata": {},
   "source": [
    "# KIWI API\n",
    "\n",
    "Thanks to kiwi API (kudos to them), we can easily retrieve data from their DBs. \n"
   ]
  },
  {
   "cell_type": "code",
   "execution_count": 8,
   "metadata": {},
   "outputs": [],
   "source": [
    "try:\n",
    "    url = \"https://api.skypicker.com/flights\"\n",
    "\n",
    "    # location given here \n",
    "    fly_from =\"ROM\"\n",
    "    fly_to = \"WAW\"\n",
    "    date_from =\"25/03/2020\"\n",
    "    flight_type= \"oneway\"\n",
    "    date_to =\"28/04/2020\"\n",
    "    direct_flights=1\n",
    "    #\"one_per_date\":1\n",
    "    # defining a params dict for the parameters to be sent to the API \n",
    "    PARAMS = {'fly_from':fly_from,\"direct_flights\": direct_flights, 'fly_to':fly_to,'date_from':date_from,'date_to':date_to,'partner': \"picky\",\"flight_type\": flight_type} \n",
    "\n",
    "    # sending get request and saving the response as response object \n",
    "    r = requests.get(url = url, params = PARAMS) \n",
    "    data = r.json() \n",
    "    lista=data['data']\n",
    "    #print(json.dumps(data, indent = 4))\n",
    "    prezzi=[]\n",
    "    for i in range(0,len(lista)):\n",
    "        prezzi.append(lista[i]['price'])\n",
    "    buono=prezzi.index(min(prezzi))\n",
    "except:\n",
    "    next"
   ]
  },
  {
   "cell_type": "code",
   "execution_count": 2,
   "metadata": {},
   "outputs": [],
   "source": [
    "#print(data)"
   ]
  },
  {
   "cell_type": "markdown",
   "metadata": {},
   "source": [
    "# Send an email as an alert\n",
    "\n",
    "Now that the flight has been found, just alert me with all the relevant info so that I can finally book my flight. "
   ]
  },
  {
   "cell_type": "code",
   "execution_count": 10,
   "metadata": {},
   "outputs": [
    {
     "name": "stdout",
     "output_type": "stream",
     "text": [
      "ok\n"
     ]
    }
   ],
   "source": [
    "try:\n",
    "    server = smtplib.SMTP(\"smtp.mail.yahoo.com\", 587)\n",
    "    server.connect(\"smtp.mail.yahoo.com\", 587)\n",
    "    server.ehlo()\n",
    "    server.starttls()\n",
    "    server.ehlo()\n",
    "    msg = MIMEMultipart()\n",
    "    msg['Subject'] = \"New offer for \"+ lista[buono]['cityTo']\n",
    "    body = \"Hi Edoardo, \\n \\nBot has found a new offer of \"+ str(lista[buono]['price']) + \"€. Number of flights is equal to \"+str(lista[buono]['pnr_count'])+\" and the total duration of the fligh is \"+ str(lista[buono]['fly_duration'])+\".\\n \\n Book via: \\n\" +str(lista[buono]['deep_link'])+\"\\n \\n \\n  Sincerely, \\n Your lovely bot\"\n",
    "    msg.attach(MIMEText(body, 'plain'))\n",
    "    server.login(sendermail, senderpsw)\n",
    "    text = msg.as_string()\n",
    "    server.sendmail(sendermail, rcvmail, text)\n",
    "    server.quit()\n",
    "    print(\"ok\")\n",
    "except:\n",
    "    print(\"not ok\")"
   ]
  }
 ],
 "metadata": {
  "kernelspec": {
   "display_name": "Python 3",
   "language": "python",
   "name": "python3"
  },
  "language_info": {
   "codemirror_mode": {
    "name": "ipython",
    "version": 3
   },
   "file_extension": ".py",
   "mimetype": "text/x-python",
   "name": "python",
   "nbconvert_exporter": "python",
   "pygments_lexer": "ipython3",
   "version": "3.6.5"
  }
 },
 "nbformat": 4,
 "nbformat_minor": 2
}
